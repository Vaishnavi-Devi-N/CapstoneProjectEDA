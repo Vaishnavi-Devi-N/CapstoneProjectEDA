{
  "cells": [
    {
      "cell_type": "markdown",
      "metadata": {
        "id": "view-in-github",
        "colab_type": "text"
      },
      "source": [
        "<a href=\"https://colab.research.google.com/github/Vaishnavi-Devi-N/CapstoneProjectEDA/blob/main/EDA_project_on_hotel_booking.ipynb\" target=\"_parent\"><img src=\"https://colab.research.google.com/assets/colab-badge.svg\" alt=\"Open In Colab\"/></a>"
      ]
    },
    {
      "cell_type": "code",
      "execution_count": 10,
      "metadata": {
        "id": "l_vUSac6Lpc6"
      },
      "outputs": [],
      "source": [
        "import pandas as pd\n",
        "import numpy as np"
      ]
    },
    {
      "cell_type": "code",
      "source": [
        "# from google.colab import drive\n",
        "# drive.mount('/content/drive')\n",
        "# file_path = '/content/drive/MyDrive/Almabetter/CSV of pandas projects /Hotel_Bookings.csv'"
      ],
      "metadata": {
        "colab": {
          "base_uri": "https://localhost:8080/"
        },
        "id": "usOI8NmDRywi",
        "outputId": "5f52a9b1-6daf-47aa-bb8f-597c92549942"
      },
      "execution_count": 9,
      "outputs": [
        {
          "output_type": "stream",
          "name": "stdout",
          "text": [
            "Drive already mounted at /content/drive; to attempt to forcibly remount, call drive.mount(\"/content/drive\", force_remount=True).\n"
          ]
        }
      ]
    },
    {
      "cell_type": "code",
      "execution_count": 11,
      "metadata": {
        "id": "00-yKTftL1zo"
      },
      "outputs": [],
      "source": [
        "link = 'https://github.com/Vaishnavi-Devi-N/CapstoneProjectEDA/raw/main/Hotel%20Bookings.csv'\n",
        "data = pd.read_csv(link)"
      ]
    },
    {
      "cell_type": "markdown",
      "metadata": {
        "id": "06gDHEPGbHeK"
      },
      "source": [
        "Step 1: Remove duplicate or irrelevant observations. Remove unwanted observations from your dataset, including duplicate observations or irrelevant observations. ...\n",
        "\n",
        "Step 2: Fix structural errors. ...\n",
        "\n",
        "Step 3: Filter unwanted outliers. ...\n",
        "\n",
        "Step 4: Handle missing data. ...\n",
        "\n",
        "Step 5: Validate and QA."
      ]
    },
    {
      "cell_type": "code",
      "execution_count": 12,
      "metadata": {
        "id": "QMUCXPTVWDkL"
      },
      "outputs": [],
      "source": [
        "duplicate_data = pd.read_csv(link)"
      ]
    },
    {
      "cell_type": "code",
      "execution_count": null,
      "metadata": {
        "colab": {
          "base_uri": "https://localhost:8080/"
        },
        "id": "jotxSqG7QwJq",
        "outputId": "2c0634d0-e5d6-42df-e27b-712c4d5b5932"
      },
      "outputs": [
        {
          "output_type": "execute_result",
          "data": {
            "text/plain": [
              "company                           13679\n",
              "agent                              2512\n",
              "country                             438\n",
              "is_repeated_guest                     1\n",
              "previous_cancellations                1\n",
              "reservation_status                    1\n",
              "total_of_special_requests             1\n",
              "required_car_parking_spaces           1\n",
              "adr                                   1\n",
              "customer_type                         1\n",
              "days_in_waiting_list                  1\n",
              "deposit_type                          1\n",
              "booking_changes                       1\n",
              "assigned_room_type                    1\n",
              "reserved_room_type                    1\n",
              "previous_bookings_not_canceled        1\n",
              "reservation_status_date               1\n",
              "distribution_channel                  1\n",
              "market_segment                        1\n",
              "meal                                  1\n",
              "babies                                1\n",
              "children                              1\n",
              "adults                                1\n",
              "is_canceled                           0\n",
              "stays_in_week_nights                  0\n",
              "stays_in_weekend_nights               0\n",
              "arrival_date_day_of_month             0\n",
              "arrival_date_week_number              0\n",
              "arrival_date_month                    0\n",
              "arrival_date_year                     0\n",
              "lead_time                             0\n",
              "hotel                                 0\n",
              "dtype: int64"
            ]
          },
          "metadata": {},
          "execution_count": 5
        }
      ],
      "source": [
        "data.isna().sum().sort_values(ascending = False)"
      ]
    },
    {
      "cell_type": "markdown",
      "metadata": {
        "id": "9GkxTjtvYohU"
      },
      "source": [
        "**Handling duplicate**"
      ]
    },
    {
      "cell_type": "code",
      "execution_count": null,
      "metadata": {
        "colab": {
          "base_uri": "https://localhost:8080/"
        },
        "id": "GKLssAGxYSRs",
        "outputId": "87901eb8-917e-429f-f07b-c0dcb9717e17"
      },
      "outputs": [
        {
          "output_type": "execute_result",
          "data": {
            "text/plain": [
              "False    11468\n",
              "True      3216\n",
              "dtype: int64"
            ]
          },
          "metadata": {},
          "execution_count": 6
        }
      ],
      "source": [
        "data.duplicated().value_counts()"
      ]
    },
    {
      "cell_type": "code",
      "execution_count": null,
      "metadata": {
        "colab": {
          "base_uri": "https://localhost:8080/"
        },
        "id": "CpES-FaeZ8BO",
        "outputId": "6b3c33ef-d9f2-4396-98ba-c235dd87c496"
      },
      "outputs": [
        {
          "output_type": "execute_result",
          "data": {
            "text/plain": [
              "(14684, 32)"
            ]
          },
          "metadata": {},
          "execution_count": 7
        }
      ],
      "source": [
        "data.shape"
      ]
    },
    {
      "cell_type": "code",
      "execution_count": null,
      "metadata": {
        "id": "qxg4_7joZsyR"
      },
      "outputs": [],
      "source": [
        "data.drop_duplicates(inplace = True)"
      ]
    },
    {
      "cell_type": "code",
      "execution_count": null,
      "metadata": {
        "colab": {
          "base_uri": "https://localhost:8080/"
        },
        "id": "kQ1dtdNCaQXf",
        "outputId": "e9308644-c911-4a8b-da98-c38f167cfb70"
      },
      "outputs": [
        {
          "output_type": "execute_result",
          "data": {
            "text/plain": [
              "(11468, 32)"
            ]
          },
          "metadata": {},
          "execution_count": 9
        }
      ],
      "source": [
        "data.shape"
      ]
    },
    {
      "cell_type": "code",
      "execution_count": null,
      "metadata": {
        "colab": {
          "base_uri": "https://localhost:8080/"
        },
        "id": "SyVyeTwDZw2A",
        "outputId": "7ad40dda-6363-4aa8-8d13-e2f1c066244a"
      },
      "outputs": [
        {
          "output_type": "execute_result",
          "data": {
            "text/plain": [
              "False    11468\n",
              "dtype: int64"
            ]
          },
          "metadata": {},
          "execution_count": 10
        }
      ],
      "source": [
        "data.duplicated().value_counts()"
      ]
    },
    {
      "cell_type": "markdown",
      "metadata": {
        "id": "pxdlNnN2YyMQ"
      },
      "source": [
        "**Handling null values**"
      ]
    },
    {
      "cell_type": "code",
      "execution_count": null,
      "metadata": {
        "id": "T9W9GHPNQ8MA"
      },
      "outputs": [],
      "source": [
        "data['company'].fillna('not company sponsored', inplace = True)"
      ]
    },
    {
      "cell_type": "code",
      "execution_count": null,
      "metadata": {
        "id": "XEgnS7dRXRc5"
      },
      "outputs": [],
      "source": [
        "data['country'].fillna('others', inplace = True)"
      ]
    },
    {
      "cell_type": "code",
      "execution_count": null,
      "metadata": {
        "id": "hECY7E_-XZiT"
      },
      "outputs": [],
      "source": [
        "data['children'].fillna(0, inplace = True)"
      ]
    },
    {
      "cell_type": "code",
      "execution_count": null,
      "metadata": {
        "id": "Wn8pt6wbWb4V"
      },
      "outputs": [],
      "source": [
        "data['agent'].fillna('self booking', inplace = True)"
      ]
    },
    {
      "cell_type": "code",
      "execution_count": null,
      "metadata": {
        "colab": {
          "base_uri": "https://localhost:8080/"
        },
        "id": "o01jsJV7TBTz",
        "outputId": "80232b83-2c32-4477-a641-ad8d3561f762"
      },
      "outputs": [
        {
          "output_type": "execute_result",
          "data": {
            "text/plain": [
              "hotel                             0\n",
              "is_canceled                       0\n",
              "lead_time                         0\n",
              "arrival_date_year                 0\n",
              "arrival_date_month                0\n",
              "arrival_date_week_number          0\n",
              "arrival_date_day_of_month         0\n",
              "stays_in_weekend_nights           0\n",
              "stays_in_week_nights              0\n",
              "adults                            1\n",
              "children                          0\n",
              "babies                            1\n",
              "meal                              1\n",
              "country                           0\n",
              "market_segment                    1\n",
              "distribution_channel              1\n",
              "is_repeated_guest                 1\n",
              "previous_cancellations            1\n",
              "previous_bookings_not_canceled    1\n",
              "reserved_room_type                1\n",
              "assigned_room_type                1\n",
              "booking_changes                   1\n",
              "deposit_type                      1\n",
              "agent                             0\n",
              "company                           0\n",
              "days_in_waiting_list              1\n",
              "customer_type                     1\n",
              "adr                               1\n",
              "required_car_parking_spaces       1\n",
              "total_of_special_requests         1\n",
              "reservation_status                1\n",
              "reservation_status_date           1\n",
              "dtype: int64"
            ]
          },
          "metadata": {},
          "execution_count": 15
        }
      ],
      "source": [
        "data.isnull().sum()"
      ]
    },
    {
      "cell_type": "code",
      "execution_count": null,
      "metadata": {
        "id": "zHvS9mYwTSl6"
      },
      "outputs": [],
      "source": [
        "#data wrangling step"
      ]
    },
    {
      "cell_type": "code",
      "execution_count": null,
      "metadata": {
        "id": "YzsfREoYVvRr",
        "colab": {
          "base_uri": "https://localhost:8080/"
        },
        "outputId": "5ab6f502-4810-4924-c3e1-eb7b39961883"
      },
      "outputs": [
        {
          "output_type": "stream",
          "name": "stdout",
          "text": [
            "hotel         is_canceled  lead_time  arrival_date_year  arrival_date_month  arrival_date_week_number  arrival_date_day_of_month  stays_in_weekend_nights  stays_in_week_nights  adults  children  babies  meal  country  market_segment  distribution_channel  is_repeated_guest  previous_cancellations  previous_bookings_not_canceled  reserved_room_type  assigned_room_type  booking_changes  deposit_type  agent         company                days_in_waiting_list  customer_type    adr     required_car_parking_spaces  total_of_special_requests  reservation_status  reservation_status_date\n",
            "Resort Hotel  0            0          2015               August              31                        1                          0                        1                     2.0     0.0       0.0     BB    others   Direct          Direct                0.0                0.0                     1.0                             G                   G                   0.0              No Deposit    self booking  not company sponsored  0.0                   Transient        200.00  1.0                          1.0                        Check-Out           2015-08-02                 1\n",
            "              1            89         2017               April               14                        8                          2                        5                     2.0     2.0       0.0     BB    ESP      Online TA       TA/TO                 0.0                0.0                     0.0                             G                   G                   0.0              No Deposit    240.0         not company sponsored  0.0                   Transient        147.86  0.0                          0.0                        Canceled            2017-01-11                 1\n",
            "                           88         2017               August              32                        11                         0                        2                     2.0     0.0       0.0     BB    PRT      Online TA       TA/TO                 0.0                0.0                     0.0                             A                   A                   0.0              No Deposit    240.0         not company sponsored  0.0                   Transient        230.00  0.0                          1.0                        Canceled            2017-07-04                 1\n",
            "                                                                             33                        18                         0                        2                     2.0     0.0       0.0     BB    FRA      Online TA       TA/TO                 0.0                0.0                     0.0                             E                   E                   0.0              No Deposit    240.0         not company sponsored  0.0                   Transient        270.00  0.0                          1.0                        Canceled            2017-05-26                 1\n",
            "                                                         January             1                         1                          2                        3                     2.0     0.0       0.0     BB    ITA      Online TA       TA/TO                 0.0                0.0                     0.0                             A                   A                   0.0              No Deposit    240.0         not company sponsored  0.0                   Transient        44.64   0.0                          1.0                        Canceled            2016-11-20                 1\n",
            "                                                                                                                                                                                                                                                                                                                                                                                                                                                                                                                                                                                                            ..\n",
            "              0            397        2016               September           39                        21                         0                        4                     1.0     0.0       0.0     BB    PRT      Offline TA/TO   TA/TO                 0.0                0.0                     0.0                             A                   D                   1.0              No Deposit    96.0          not company sponsored  0.0                   Transient-Party  60.25   0.0                          0.0                        Check-Out           2016-09-25                 1\n",
            "                                                                                                                                                                                 2.0     0.0       0.0     BB    CN       Offline TA/TO   TA/TO                 0.0                0.0                     0.0                             A                   A                   0.0              No Deposit    96.0          not company sponsored  0.0                   Transient-Party  70.50   0.0                          1.0                        Check-Out           2016-09-25                 1\n",
            "                                                                                                                                                                                                                                                                                                                                                                                                                                                                                              72.50   0.0                          1.0                        Check-Out           2016-09-25                 1\n",
            "                           399        2016               September           36                        1                          4                        10                    2.0     0.0       0.0     BB    GBR      Offline TA/TO   TA/TO                 0.0                0.0                     0.0                             A                   A                   3.0              No Deposit    40.0          not company sponsored  0.0                   Transient        57.54   0.0                          0.0                        Check-Out           2016-09-15                 1\n",
            "              1            471        2017               May                 20                        20                         2                        5                     2.0     0.0       0.0     BB    PRT      Groups          TA/TO                 0.0                0.0                     0.0                             A                   A                   0.0              Non Refund    96.0          not company sponsored  0.0                   Transient        47.00   0.0                          0.0                        Canceled            2017-05-03                 1\n",
            "Length: 11467, dtype: int64\n"
          ]
        }
      ],
      "source": [
        "value_counts_result = data.value_counts()  # Calculate value counts\n",
        "print(value_counts_result)"
      ]
    },
    {
      "cell_type": "code",
      "execution_count": null,
      "metadata": {
        "id": "DYvPq_1Rq9mi"
      },
      "outputs": [],
      "source": [
        "data_copy = data.copy()"
      ]
    },
    {
      "cell_type": "code",
      "execution_count": null,
      "metadata": {
        "id": "DIER3peHq-j0"
      },
      "outputs": [],
      "source": [
        "data_copy.set"
      ]
    }
  ],
  "metadata": {
    "colab": {
      "provenance": [],
      "toc_visible": true,
      "authorship_tag": "ABX9TyPhAb+CzW/bfx5P15L1ciPL",
      "include_colab_link": true
    },
    "kernelspec": {
      "display_name": "Python 3",
      "name": "python3"
    },
    "language_info": {
      "name": "python"
    }
  },
  "nbformat": 4,
  "nbformat_minor": 0
}